{
  "nbformat": 4,
  "nbformat_minor": 0,
  "metadata": {
    "colab": {
      "provenance": [],
      "authorship_tag": "ABX9TyPrQ1Cfmjy5Pw9e2OZ1VrSY",
      "include_colab_link": true
    },
    "kernelspec": {
      "name": "python3",
      "display_name": "Python 3"
    },
    "language_info": {
      "name": "python"
    }
  },
  "cells": [
    {
      "cell_type": "markdown",
      "metadata": {
        "id": "view-in-github",
        "colab_type": "text"
      },
      "source": [
        "<a href=\"https://colab.research.google.com/github/fasil2504/Mini_calculator_python_cmd/blob/main/Mini_calculator_commandLine.ipynb\" target=\"_parent\"><img src=\"https://colab.research.google.com/assets/colab-badge.svg\" alt=\"Open In Colab\"/></a>"
      ]
    },
    {
      "cell_type": "code",
      "source": [
        "\n",
        "def add(x,y):\n",
        "  sum=x+y\n",
        "  print(\"Addition=\",sum)\n",
        "\n",
        "\n",
        "def sub(x,y):\n",
        "  sum=x-y\n",
        "  print(\"Subtraction =\",sum)\n",
        "\n",
        "def mul(x,y):\n",
        "  sum=x*y\n",
        "  print(\"Multiplication =\",sum)\n",
        "\n",
        "def div(x,y):\n",
        "  sum=x/y\n",
        "  print(\"Division =\",sum)\n",
        "n=0\n",
        "ch='n'\n",
        "print(\"****CALCULATOR*********\")\n",
        "while(ch!='y'):\n",
        "  a= eval(input(\"Enter the first number: \"))\n",
        "  b= eval(input(\"Enter the second number: \"))\n",
        "  options='''Options:-\n",
        "  1.Addition\n",
        "  2.Subtraction\n",
        "  3.Multiplication\n",
        "  4.Division'''\n",
        "  print(options)\n",
        "  n=eval(input(\"Please Choose your option:\"))\n",
        "  4\n",
        "\n",
        "  if n==1:\n",
        "    add(a,b)\n",
        "  elif n==2:\n",
        "    sub(a,b)\n",
        "  elif n==3:\n",
        "    mul(a,b)\n",
        "  elif n==4:\n",
        "    div(a,b)\n",
        "  else:\n",
        "    print('Wrong option, please choose either from the list')\n",
        "  ch=input('Do you want to close ,if yes \"y\" else \"n\"')\n",
        "print(\"****END*********\")\n"
      ],
      "metadata": {
        "colab": {
          "base_uri": "https://localhost:8080/"
        },
        "id": "bEBCaaSVkN_W",
        "outputId": "8c141540-6c29-41a0-8283-2588c1de0251"
      },
      "execution_count": null,
      "outputs": [
        {
          "output_type": "stream",
          "name": "stdout",
          "text": [
            "****CALCULATOR*********\n",
            "Enter the first number: 10\n",
            "Enter the second number: 10\n",
            "Options:-\n",
            "  1.Addition\n",
            "  2.Subtraction\n",
            "  3.Multiplication\n",
            "  4.Division\n",
            "Please Choose your option:1\n",
            "Addition= 20\n",
            "Do you want to close ,if yes \"y\" else \"n\"y\n",
            "****END*********\n"
          ]
        }
      ]
    }
  ]
}